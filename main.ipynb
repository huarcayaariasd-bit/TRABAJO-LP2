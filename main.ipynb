{
 "cells": [
  {
   "cell_type": "code",
   "execution_count": 5,
   "id": "a63bbd96-7920-4c49-99cf-e462bafc3fe3",
   "metadata": {},
   "outputs": [],
   "source": [
    "import csv\n",
    "\n",
    "def leer_csv(ruta_archivo):\n",
    "    datos = []\n",
    "    with open(ruta_archivo, encoding='utf-8') as archivo:\n",
    "        lector = csv.DictReader(archivo)\n",
    "        for fila in lector:\n",
    "            datos.append(fila)\n",
    "    return datos\n"
   ]
  },
  {
   "cell_type": "code",
   "execution_count": 6,
   "id": "eef44383-2840-489e-9b31-f32be42ffd71",
   "metadata": {},
   "outputs": [
    {
     "name": "stdout",
     "output_type": "stream",
     "text": [
      " Archivo leído correctamente.\n",
      "Total de registros: 891\n",
      "\n",
      "Primeras 5 filas del dataset:\n",
      "\n",
      "{'PassengerId': '1', 'Survived': '0', 'Pclass': '3', 'Name': 'Braund, Mr. Owen Harris', 'Sex': 'male', 'Age': '22', 'SibSp': '1', 'Parch': '0', 'Ticket': 'A/5 21171', 'Fare': '7.25', 'Cabin': '', 'Embarked': 'S'}\n",
      "{'PassengerId': '2', 'Survived': '1', 'Pclass': '1', 'Name': 'Cumings, Mrs. John Bradley (Florence Briggs Thayer)', 'Sex': 'female', 'Age': '38', 'SibSp': '1', 'Parch': '0', 'Ticket': 'PC 17599', 'Fare': '71.2833', 'Cabin': 'C85', 'Embarked': 'C'}\n",
      "{'PassengerId': '3', 'Survived': '1', 'Pclass': '3', 'Name': 'Heikkinen, Miss. Laina', 'Sex': 'female', 'Age': '26', 'SibSp': '0', 'Parch': '0', 'Ticket': 'STON/O2. 3101282', 'Fare': '7.925', 'Cabin': '', 'Embarked': 'S'}\n",
      "{'PassengerId': '4', 'Survived': '1', 'Pclass': '1', 'Name': 'Futrelle, Mrs. Jacques Heath (Lily May Peel)', 'Sex': 'female', 'Age': '35', 'SibSp': '1', 'Parch': '0', 'Ticket': '113803', 'Fare': '53.1', 'Cabin': 'C123', 'Embarked': 'S'}\n",
      "{'PassengerId': '5', 'Survived': '0', 'Pclass': '3', 'Name': 'Allen, Mr. William Henry', 'Sex': 'male', 'Age': '35', 'SibSp': '0', 'Parch': '0', 'Ticket': '373450', 'Fare': '8.05', 'Cabin': '', 'Embarked': 'S'}\n"
     ]
    }
   ],
   "source": [
    "ruta = \"data/titanic.csv\"\n",
    "\n",
    "try:\n",
    "    datos = leer_csv(ruta)\n",
    "    print(\" Archivo leído correctamente.\")\n",
    "    print(f\"Total de registros: {len(datos)}\\n\")\n",
    "    print(\"Primeras 5 filas del dataset:\\n\")\n",
    "\n",
    "    for fila in datos[:5]:\n",
    "        print(fila)\n",
    "except FileNotFoundError:\n",
    "    print(\" No se encontró el archivo titanic.csv. Verifica la ruta.\")\n",
    "except Exception as e:\n",
    "    print(\"Ocurrió un error inesperado:\", e)\n"
   ]
  },
  {
   "cell_type": "code",
   "execution_count": null,
   "id": "7518cf5d-5889-4713-b8bd-f3c9f9483483",
   "metadata": {},
   "outputs": [],
   "source": []
  }
 ],
 "metadata": {
  "kernelspec": {
   "display_name": "Python 3 (ipykernel)",
   "language": "python",
   "name": "python3"
  },
  "language_info": {
   "codemirror_mode": {
    "name": "ipython",
    "version": 3
   },
   "file_extension": ".py",
   "mimetype": "text/x-python",
   "name": "python",
   "nbconvert_exporter": "python",
   "pygments_lexer": "ipython3",
   "version": "3.13.5"
  }
 },
 "nbformat": 4,
 "nbformat_minor": 5
}
