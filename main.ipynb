{
 "cells": [
  {
   "cell_type": "code",
   "execution_count": 1,
   "id": "a63bbd96-7920-4c49-99cf-e462bafc3fe3",
   "metadata": {},
   "outputs": [
    {
     "name": "stdout",
     "output_type": "stream",
     "text": [
      "Primeras 5 filas del dataset Titanic:\n",
      "{'PassengerId': '1', 'Survived': '0', 'Pclass': '3', 'Name': 'Braund, Mr. Owen Harris', 'Sex': 'male', 'Age': '22', 'SibSp': '1', 'Parch': '0', 'Ticket': 'A/5 21171', 'Fare': '7.25', 'Cabin': '', 'Embarked': 'S'}\n",
      "{'PassengerId': '2', 'Survived': '1', 'Pclass': '1', 'Name': 'Cumings, Mrs. John Bradley (Florence Briggs Thayer)', 'Sex': 'female', 'Age': '38', 'SibSp': '1', 'Parch': '0', 'Ticket': 'PC 17599', 'Fare': '71.2833', 'Cabin': 'C85', 'Embarked': 'C'}\n",
      "{'PassengerId': '3', 'Survived': '1', 'Pclass': '3', 'Name': 'Heikkinen, Miss. Laina', 'Sex': 'female', 'Age': '26', 'SibSp': '0', 'Parch': '0', 'Ticket': 'STON/O2. 3101282', 'Fare': '7.925', 'Cabin': '', 'Embarked': 'S'}\n",
      "{'PassengerId': '4', 'Survived': '1', 'Pclass': '1', 'Name': 'Futrelle, Mrs. Jacques Heath (Lily May Peel)', 'Sex': 'female', 'Age': '35', 'SibSp': '1', 'Parch': '0', 'Ticket': '113803', 'Fare': '53.1', 'Cabin': 'C123', 'Embarked': 'S'}\n",
      "{'PassengerId': '5', 'Survived': '0', 'Pclass': '3', 'Name': 'Allen, Mr. William Henry', 'Sex': 'male', 'Age': '35', 'SibSp': '0', 'Parch': '0', 'Ticket': '373450', 'Fare': '8.05', 'Cabin': '', 'Embarked': 'S'}\n"
     ]
    }
   ],
   "source": [
    "import csv\n",
    "\n",
    "def leer_csv(ruta_archivo):\n",
    "    datos = []\n",
    "    with open(ruta_archivo, encoding='utf-8') as archivo:\n",
    "        lector = csv.DictReader(archivo)\n",
    "        for fila in lector:\n",
    "            datos.append(fila)\n",
    "    return datos\n",
    "\n",
    "# Cargar datos\n",
    "ruta = \"data/titanic.csv\"\n",
    "data = leer_csv(ruta)\n",
    "\n",
    "# Verificar primeras 5 filas\n",
    "print(\"Primeras 5 filas del dataset Titanic:\")\n",
    "for fila in data[:5]:\n",
    "    print(fila)"
   ]
  },
  {
   "cell_type": "code",
   "execution_count": 2,
   "id": "b05f5fe8-4735-495f-961e-2d9ed339e7f5",
   "metadata": {},
   "outputs": [
    {
     "name": "stdout",
     "output_type": "stream",
     "text": [
      " Estadísticas de Edad:\n",
      "{'media': 29.69911764705882, 'mediana': 28.0, 'moda': [24.0], 'varianza': 211.01912474630805, 'desviacion_estandar': 14.526497332334042, 'percentil_25': 20.125, 'percentil_50': 28.0, 'percentil_75': 38.0}\n",
      "\n",
      " Estadísticas de Tarifa:\n",
      "{'media': 32.204207968574636, 'mediana': 14.4542, 'moda': [8.05], 'varianza': 2469.436845743116, 'desviacion_estandar': 49.6934285971809, 'percentil_25': 7.9104, 'percentil_50': 14.4542, 'percentil_75': 31.0}\n",
      "\n",
      " Estadísticas de Familiares a bordo:\n",
      "{'media': 0.9046015712682379, 'mediana': 0.0, 'moda': [0.0], 'varianza': 2.603248464671686, 'desviacion_estandar': 1.6134585413550873, 'percentil_25': 0.0, 'percentil_50': 0.0, 'percentil_75': 1.0}\n"
     ]
    }
   ],
   "source": [
    "from estadistica.cuantitativa import EstadisticaCuantitativa\n",
    "\n",
    "# ---- Variables cuantitativas ----\n",
    "edades = []\n",
    "tarifas = []\n",
    "familiares = []\n",
    "\n",
    "for fila in data:\n",
    "    try:\n",
    "        edad = float(fila['Age']) if fila['Age'] else None\n",
    "        tarifa = float(fila['Fare']) if fila['Fare'] else None\n",
    "        sibsp = int(fila['SibSp']) if fila['SibSp'] else 0\n",
    "        parch = int(fila['Parch']) if fila['Parch'] else 0\n",
    "        fam = sibsp + parch\n",
    "\n",
    "        if edad is not None:\n",
    "            edades.append(edad)\n",
    "        if tarifa is not None:\n",
    "            tarifas.append(tarifa)\n",
    "        familiares.append(fam)\n",
    "    except:\n",
    "        continue\n",
    "\n",
    "# ---- Crear instancias de la clase ----\n",
    "edad_est = EstadisticaCuantitativa(edades)\n",
    "tarifa_est = EstadisticaCuantitativa(tarifas)\n",
    "familia_est = EstadisticaCuantitativa(familiares)\n",
    "\n",
    "# ---- Mostrar resultados ----\n",
    "print(\" Estadísticas de Edad:\")\n",
    "print(edad_est.resumen())\n",
    "\n",
    "print(\"\\n Estadísticas de Tarifa:\")\n",
    "print(tarifa_est.resumen())\n",
    "\n",
    "print(\"\\n Estadísticas de Familiares a bordo:\")\n",
    "print(familia_est.resumen())"
   ]
  },
  {
   "cell_type": "code",
   "execution_count": 3,
   "id": "cad8beb6-ece9-4c0c-8291-8436e932ae88",
   "metadata": {},
   "outputs": [
    {
     "name": "stdout",
     "output_type": "stream",
     "text": [
      " Estadísticas de Sexo:\n",
      "{'frecuencias': {'male': 577, 'female': 314}, 'porcentajes': {'male': 64.75869809203144, 'female': 35.24130190796858}, 'moda': ['male']}\n",
      "\n",
      " Estadísticas de Clase:\n",
      "{'frecuencias': {'3': 491, '1': 216, '2': 184}, 'porcentajes': {'3': 55.106621773288445, '1': 24.242424242424242, '2': 20.65095398428732}, 'moda': ['3']}\n",
      "\n",
      " Estadísticas de Supervivencia:\n",
      "{'frecuencias': {'0': 549, '1': 342}, 'porcentajes': {'0': 61.61616161616161, '1': 38.38383838383838}, 'moda': ['0']}\n"
     ]
    }
   ],
   "source": [
    "from estadistica.cualitativa import EstadisticaCualitativa\n",
    "\n",
    "# ---- Variables cualitativas ----\n",
    "sexos = [fila['Sex'] for fila in data]\n",
    "clases = [fila['Pclass'] for fila in data]\n",
    "supervivencia = [fila['Survived'] for fila in data]\n",
    "\n",
    "# ---- Crear instancias ----\n",
    "sexos_est = EstadisticaCualitativa(sexos)\n",
    "clases_est = EstadisticaCualitativa(clases)\n",
    "superv_est = EstadisticaCualitativa(supervivencia)\n",
    "\n",
    "# ---- Mostrar resultados ----\n",
    "print(\" Estadísticas de Sexo:\")\n",
    "print(sexos_est.resumen())\n",
    "\n",
    "print(\"\\n Estadísticas de Clase:\")\n",
    "print(clases_est.resumen())\n",
    "\n",
    "print(\"\\n Estadísticas de Supervivencia:\")\n",
    "print(superv_est.resumen())"
   ]
  },
  {
   "cell_type": "code",
   "execution_count": null,
   "id": "1f6e50f5-fc2a-4709-a3a8-8b717019aa07",
   "metadata": {},
   "outputs": [],
   "source": []
  }
 ],
 "metadata": {
  "kernelspec": {
   "display_name": "Python [conda env:base] *",
   "language": "python",
   "name": "conda-base-py"
  },
  "language_info": {
   "codemirror_mode": {
    "name": "ipython",
    "version": 3
   },
   "file_extension": ".py",
   "mimetype": "text/x-python",
   "name": "python",
   "nbconvert_exporter": "python",
   "pygments_lexer": "ipython3",
   "version": "3.13.5"
  }
 },
 "nbformat": 4,
 "nbformat_minor": 5
}
