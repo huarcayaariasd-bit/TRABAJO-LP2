{
 "cells": [
  {
   "cell_type": "code",
   "execution_count": 1,
   "id": "a63bbd96-7920-4c49-99cf-e462bafc3fe3",
   "metadata": {},
   "outputs": [
    {
     "name": "stdout",
     "output_type": "stream",
     "text": [
      "Primeras 5 filas del dataset Titanic:\n",
      "{'PassengerId': '1', 'Survived': '0', 'Pclass': '3', 'Name': 'Braund, Mr. Owen Harris', 'Sex': 'male', 'Age': '22', 'SibSp': '1', 'Parch': '0', 'Ticket': 'A/5 21171', 'Fare': '7.25', 'Cabin': '', 'Embarked': 'S'}\n",
      "{'PassengerId': '2', 'Survived': '1', 'Pclass': '1', 'Name': 'Cumings, Mrs. John Bradley (Florence Briggs Thayer)', 'Sex': 'female', 'Age': '38', 'SibSp': '1', 'Parch': '0', 'Ticket': 'PC 17599', 'Fare': '71.2833', 'Cabin': 'C85', 'Embarked': 'C'}\n",
      "{'PassengerId': '3', 'Survived': '1', 'Pclass': '3', 'Name': 'Heikkinen, Miss. Laina', 'Sex': 'female', 'Age': '26', 'SibSp': '0', 'Parch': '0', 'Ticket': 'STON/O2. 3101282', 'Fare': '7.925', 'Cabin': '', 'Embarked': 'S'}\n",
      "{'PassengerId': '4', 'Survived': '1', 'Pclass': '1', 'Name': 'Futrelle, Mrs. Jacques Heath (Lily May Peel)', 'Sex': 'female', 'Age': '35', 'SibSp': '1', 'Parch': '0', 'Ticket': '113803', 'Fare': '53.1', 'Cabin': 'C123', 'Embarked': 'S'}\n",
      "{'PassengerId': '5', 'Survived': '0', 'Pclass': '3', 'Name': 'Allen, Mr. William Henry', 'Sex': 'male', 'Age': '35', 'SibSp': '0', 'Parch': '0', 'Ticket': '373450', 'Fare': '8.05', 'Cabin': '', 'Embarked': 'S'}\n"
     ]
    }
   ],
   "source": [
    "import csv\n",
    "\n",
    "def leer_csv(ruta_archivo):\n",
    "    datos = []\n",
    "    with open(ruta_archivo, encoding='utf-8') as archivo:\n",
    "        lector = csv.DictReader(archivo)\n",
    "        for fila in lector:\n",
    "            datos.append(fila)\n",
    "    return datos\n",
    "\n",
    "# Cargar datos\n",
    "ruta = \"data/titanic.csv\"\n",
    "data = leer_csv(ruta)\n",
    "\n",
    "# Verificar primeras 5 filas\n",
    "print(\"Primeras 5 filas del dataset Titanic:\")\n",
    "for fila in data[:5]:\n",
    "    print(fila)"
   ]
  },
  {
   "cell_type": "code",
   "execution_count": 2,
   "id": "b05f5fe8-4735-495f-961e-2d9ed339e7f5",
   "metadata": {},
   "outputs": [
    {
     "name": "stdout",
     "output_type": "stream",
     "text": [
      " Estadísticas de Edad:\n",
      "{'media': 29.69911764705882, 'mediana': 28.0, 'moda': [24.0], 'varianza': 211.01912474630805, 'desviacion_estandar': 14.526497332334042, 'percentil_25': 20.125, 'percentil_50': 28.0, 'percentil_75': 38.0}\n",
      "\n",
      " Estadísticas de Tarifa:\n",
      "{'media': 32.204207968574636, 'mediana': 14.4542, 'moda': [8.05], 'varianza': 2469.436845743116, 'desviacion_estandar': 49.6934285971809, 'percentil_25': 7.9104, 'percentil_50': 14.4542, 'percentil_75': 31.0}\n",
      "\n",
      " Estadísticas de Familiares a bordo:\n",
      "{'media': 0.9046015712682379, 'mediana': 0.0, 'moda': [0.0], 'varianza': 2.603248464671686, 'desviacion_estandar': 1.6134585413550873, 'percentil_25': 0.0, 'percentil_50': 0.0, 'percentil_75': 1.0}\n"
     ]
    }
   ],
   "source": [
    "from estadistica.cuantitativa import EstadisticaCuantitativa\n",
    "\n",
    "# ---- Variables cuantitativas ----\n",
    "edades = []\n",
    "tarifas = []\n",
    "familiares = []\n",
    "\n",
    "for fila in data:\n",
    "    try:\n",
    "        edad = float(fila['Age']) if fila['Age'] else None\n",
    "        tarifa = float(fila['Fare']) if fila['Fare'] else None\n",
    "        sibsp = int(fila['SibSp']) if fila['SibSp'] else 0\n",
    "        parch = int(fila['Parch']) if fila['Parch'] else 0\n",
    "        fam = sibsp + parch\n",
    "\n",
    "        if edad is not None:\n",
    "            edades.append(edad)\n",
    "        if tarifa is not None:\n",
    "            tarifas.append(tarifa)\n",
    "        familiares.append(fam)\n",
    "    except:\n",
    "        continue\n",
    "\n",
    "# ---- Crear instancias de la clase ----\n",
    "edad_est = EstadisticaCuantitativa(edades)\n",
    "tarifa_est = EstadisticaCuantitativa(tarifas)\n",
    "familia_est = EstadisticaCuantitativa(familiares)\n",
    "\n",
    "# ---- Mostrar resultados ----\n",
    "print(\" Estadísticas de Edad:\")\n",
    "print(edad_est.resumen())\n",
    "\n",
    "print(\"\\n Estadísticas de Tarifa:\")\n",
    "print(tarifa_est.resumen())\n",
    "\n",
    "print(\"\\n Estadísticas de Familiares a bordo:\")\n",
    "print(familia_est.resumen())"
   ]
  },
  {
   "cell_type": "code",
   "execution_count": 3,
   "id": "cad8beb6-ece9-4c0c-8291-8436e932ae88",
   "metadata": {},
   "outputs": [
    {
     "name": "stdout",
     "output_type": "stream",
     "text": [
      " Estadísticas de Sexo:\n",
      "{'frecuencias': {'male': 577, 'female': 314}, 'porcentajes': {'male': 64.75869809203144, 'female': 35.24130190796858}, 'moda': ['male']}\n",
      "\n",
      " Estadísticas de Clase:\n",
      "{'frecuencias': {'3': 491, '1': 216, '2': 184}, 'porcentajes': {'3': 55.106621773288445, '1': 24.242424242424242, '2': 20.65095398428732}, 'moda': ['3']}\n",
      "\n",
      " Estadísticas de Supervivencia:\n",
      "{'frecuencias': {'0': 549, '1': 342}, 'porcentajes': {'0': 61.61616161616161, '1': 38.38383838383838}, 'moda': ['0']}\n"
     ]
    }
   ],
   "source": [
    "from estadistica.cualitativa import EstadisticaCualitativa\n",
    "\n",
    "# ---- Variables cualitativas ----\n",
    "sexos = [fila['Sex'] for fila in data]\n",
    "clases = [fila['Pclass'] for fila in data]\n",
    "supervivencia = [fila['Survived'] for fila in data]\n",
    "\n",
    "# ---- Crear instancias ----\n",
    "sexos_est = EstadisticaCualitativa(sexos)\n",
    "clases_est = EstadisticaCualitativa(clases)\n",
    "superv_est = EstadisticaCualitativa(supervivencia)\n",
    "\n",
    "# ---- Mostrar resultados ----\n",
    "print(\" Estadísticas de Sexo:\")\n",
    "print(sexos_est.resumen())\n",
    "\n",
    "print(\"\\n Estadísticas de Clase:\")\n",
    "print(clases_est.resumen())\n",
    "\n",
    "print(\"\\n Estadísticas de Supervivencia:\")\n",
    "print(superv_est.resumen())"
   ]
  },
  {
   "cell_type": "code",
   "execution_count": null,
   "id": "1f6e50f5-fc2a-4709-a3a8-8b717019aa07",
   "metadata": {},
   "outputs": [],
   "source": [
    "\n"
   ]
  },
  {
   "cell_type": "code",
   "execution_count": null,
   "id": "526c7721-f6d3-4614-bc32-c2e240121098",
   "metadata": {},
   "outputs": [],
   "source": [
    "\n"
   ]
  },
  {
   "cell_type": "code",
   "execution_count": 7,
   "id": "4f9e2dcd-cdfa-4c80-a80c-94a5db1b77df",
   "metadata": {},
   "outputs": [],
   "source": [
    "import pandas as pd\n",
    "\n",
    "# Opcional: mostrar todos los decimales con 2 cifras\n",
    "pd.options.display.float_format = '{:,.2f}'.format\n"
   ]
  },
  {
   "cell_type": "code",
   "execution_count": 8,
   "id": "1a86a4c9-a4b9-4e1d-85ba-f3790dc2324d",
   "metadata": {
    "scrolled": true
   },
   "outputs": [
    {
     "data": {
      "text/html": [
       "<div>\n",
       "<style scoped>\n",
       "    .dataframe tbody tr th:only-of-type {\n",
       "        vertical-align: middle;\n",
       "    }\n",
       "\n",
       "    .dataframe tbody tr th {\n",
       "        vertical-align: top;\n",
       "    }\n",
       "\n",
       "    .dataframe thead th {\n",
       "        text-align: right;\n",
       "    }\n",
       "</style>\n",
       "<table border=\"1\" class=\"dataframe\">\n",
       "  <thead>\n",
       "    <tr style=\"text-align: right;\">\n",
       "      <th></th>\n",
       "      <th>media</th>\n",
       "      <th>mediana</th>\n",
       "      <th>moda</th>\n",
       "      <th>varianza</th>\n",
       "      <th>desviacion_estandar</th>\n",
       "      <th>percentil_25</th>\n",
       "      <th>percentil_50</th>\n",
       "      <th>percentil_75</th>\n",
       "    </tr>\n",
       "    <tr>\n",
       "      <th>Variable</th>\n",
       "      <th></th>\n",
       "      <th></th>\n",
       "      <th></th>\n",
       "      <th></th>\n",
       "      <th></th>\n",
       "      <th></th>\n",
       "      <th></th>\n",
       "      <th></th>\n",
       "    </tr>\n",
       "  </thead>\n",
       "  <tbody>\n",
       "    <tr>\n",
       "      <th>Edad</th>\n",
       "      <td>29.70</td>\n",
       "      <td>28.00</td>\n",
       "      <td>[24.0]</td>\n",
       "      <td>211.02</td>\n",
       "      <td>14.53</td>\n",
       "      <td>20.12</td>\n",
       "      <td>28.00</td>\n",
       "      <td>38.00</td>\n",
       "    </tr>\n",
       "    <tr>\n",
       "      <th>Tarifa</th>\n",
       "      <td>32.20</td>\n",
       "      <td>14.45</td>\n",
       "      <td>[8.05]</td>\n",
       "      <td>2,469.44</td>\n",
       "      <td>49.69</td>\n",
       "      <td>7.91</td>\n",
       "      <td>14.45</td>\n",
       "      <td>31.00</td>\n",
       "    </tr>\n",
       "    <tr>\n",
       "      <th>Familiares</th>\n",
       "      <td>0.90</td>\n",
       "      <td>0.00</td>\n",
       "      <td>[0.0]</td>\n",
       "      <td>2.60</td>\n",
       "      <td>1.61</td>\n",
       "      <td>0.00</td>\n",
       "      <td>0.00</td>\n",
       "      <td>1.00</td>\n",
       "    </tr>\n",
       "  </tbody>\n",
       "</table>\n",
       "</div>"
      ],
      "text/plain": [
       "           media mediana    moda varianza desviacion_estandar percentil_25  \\\n",
       "Variable                                                                     \n",
       "Edad       29.70   28.00  [24.0]   211.02               14.53        20.12   \n",
       "Tarifa     32.20   14.45  [8.05] 2,469.44               49.69         7.91   \n",
       "Familiares  0.90    0.00   [0.0]     2.60                1.61         0.00   \n",
       "\n",
       "           percentil_50 percentil_75  \n",
       "Variable                              \n",
       "Edad              28.00        38.00  \n",
       "Tarifa            14.45        31.00  \n",
       "Familiares         0.00         1.00  "
      ]
     },
     "execution_count": 8,
     "metadata": {},
     "output_type": "execute_result"
    }
   ],
   "source": [
    "# Cuantitativas\n",
    "cuantitativas = {\n",
    "    \"Edad\": edad_est.resumen(),\n",
    "    \"Tarifa\": tarifa_est.resumen(),\n",
    "    \"Familiares\": familia_est.resumen()\n",
    "}\n",
    "\n",
    "# Crear DataFrame\n",
    "cuant_df = pd.DataFrame(cuantitativas).T  # .T para transponer y que las variables queden como filas\n",
    "cuant_df.index.name = \"Variable\"\n",
    "cuant_df\n"
   ]
  },
  {
   "cell_type": "code",
   "execution_count": 12,
   "id": "8a9d4a22-2ae9-41b7-877a-0db876af8fdb",
   "metadata": {},
   "outputs": [],
   "source": [
    "# Sexo\n",
    "sexos_df = pd.DataFrame({\n",
    "    \"Frecuencia\": sexos_est.frecuencias(),\n",
    "    \"Porcentaje\": sexos_est.porcentajes()\n",
    "})\n",
    "sexos_df.index.name = \"Sexo\"\n",
    "\n",
    "# Clase\n",
    "clases_df = pd.DataFrame({\n",
    "    \"Frecuencia\": clases_est.frecuencias(),\n",
    "    \"Porcentaje\": clases_est.porcentajes()\n",
    "})\n",
    "clases_df.index.name = \"Clase\"\n",
    "\n",
    "# Supervivencia\n",
    "superv_df = pd.DataFrame({\n",
    "    \"Frecuencia\": superv_est.frecuencias(),\n",
    "    \"Porcentaje\": superv_est.porcentajes()\n",
    "})\n",
    "superv_df.index.name = \"Supervivencia\"\n"
   ]
  },
  {
   "cell_type": "code",
   "execution_count": 13,
   "id": "159d4bdc-4616-4323-8fe4-3dc11f546457",
   "metadata": {},
   "outputs": [
    {
     "name": "stdout",
     "output_type": "stream",
     "text": [
      "🧑‍🤝‍🧑 Sexo\n"
     ]
    },
    {
     "data": {
      "text/html": [
       "<div>\n",
       "<style scoped>\n",
       "    .dataframe tbody tr th:only-of-type {\n",
       "        vertical-align: middle;\n",
       "    }\n",
       "\n",
       "    .dataframe tbody tr th {\n",
       "        vertical-align: top;\n",
       "    }\n",
       "\n",
       "    .dataframe thead th {\n",
       "        text-align: right;\n",
       "    }\n",
       "</style>\n",
       "<table border=\"1\" class=\"dataframe\">\n",
       "  <thead>\n",
       "    <tr style=\"text-align: right;\">\n",
       "      <th></th>\n",
       "      <th>Frecuencia</th>\n",
       "      <th>Porcentaje</th>\n",
       "    </tr>\n",
       "    <tr>\n",
       "      <th>Sexo</th>\n",
       "      <th></th>\n",
       "      <th></th>\n",
       "    </tr>\n",
       "  </thead>\n",
       "  <tbody>\n",
       "    <tr>\n",
       "      <th>male</th>\n",
       "      <td>577</td>\n",
       "      <td>64.76</td>\n",
       "    </tr>\n",
       "    <tr>\n",
       "      <th>female</th>\n",
       "      <td>314</td>\n",
       "      <td>35.24</td>\n",
       "    </tr>\n",
       "  </tbody>\n",
       "</table>\n",
       "</div>"
      ],
      "text/plain": [
       "        Frecuencia  Porcentaje\n",
       "Sexo                          \n",
       "male           577       64.76\n",
       "female         314       35.24"
      ]
     },
     "metadata": {},
     "output_type": "display_data"
    }
   ],
   "source": [
    "\n",
    "# Mostrar\n",
    "print(\" Variable cualitativa Sexo\")\n",
    "display(sexos_df)"
   ]
  },
  {
   "cell_type": "code",
   "execution_count": 14,
   "id": "de7b003e-bad9-48b7-b145-3ee7eb83ef74",
   "metadata": {},
   "outputs": [
    {
     "name": "stdout",
     "output_type": "stream",
     "text": [
      "\n",
      "🎟️ Clase\n"
     ]
    },
    {
     "data": {
      "text/html": [
       "<div>\n",
       "<style scoped>\n",
       "    .dataframe tbody tr th:only-of-type {\n",
       "        vertical-align: middle;\n",
       "    }\n",
       "\n",
       "    .dataframe tbody tr th {\n",
       "        vertical-align: top;\n",
       "    }\n",
       "\n",
       "    .dataframe thead th {\n",
       "        text-align: right;\n",
       "    }\n",
       "</style>\n",
       "<table border=\"1\" class=\"dataframe\">\n",
       "  <thead>\n",
       "    <tr style=\"text-align: right;\">\n",
       "      <th></th>\n",
       "      <th>Frecuencia</th>\n",
       "      <th>Porcentaje</th>\n",
       "    </tr>\n",
       "    <tr>\n",
       "      <th>Clase</th>\n",
       "      <th></th>\n",
       "      <th></th>\n",
       "    </tr>\n",
       "  </thead>\n",
       "  <tbody>\n",
       "    <tr>\n",
       "      <th>3</th>\n",
       "      <td>491</td>\n",
       "      <td>55.11</td>\n",
       "    </tr>\n",
       "    <tr>\n",
       "      <th>1</th>\n",
       "      <td>216</td>\n",
       "      <td>24.24</td>\n",
       "    </tr>\n",
       "    <tr>\n",
       "      <th>2</th>\n",
       "      <td>184</td>\n",
       "      <td>20.65</td>\n",
       "    </tr>\n",
       "  </tbody>\n",
       "</table>\n",
       "</div>"
      ],
      "text/plain": [
       "       Frecuencia  Porcentaje\n",
       "Clase                        \n",
       "3             491       55.11\n",
       "1             216       24.24\n",
       "2             184       20.65"
      ]
     },
     "metadata": {},
     "output_type": "display_data"
    }
   ],
   "source": [
    "print(\"Variable cualitativa Clase\")\n",
    "display(clases_df)\n"
   ]
  },
  {
   "cell_type": "code",
   "execution_count": 15,
   "id": "79052bcd-98b1-4750-9522-3d90fa1b6db4",
   "metadata": {},
   "outputs": [
    {
     "name": "stdout",
     "output_type": "stream",
     "text": [
      "\n",
      "🛟 Supervivencia\n"
     ]
    },
    {
     "data": {
      "text/html": [
       "<div>\n",
       "<style scoped>\n",
       "    .dataframe tbody tr th:only-of-type {\n",
       "        vertical-align: middle;\n",
       "    }\n",
       "\n",
       "    .dataframe tbody tr th {\n",
       "        vertical-align: top;\n",
       "    }\n",
       "\n",
       "    .dataframe thead th {\n",
       "        text-align: right;\n",
       "    }\n",
       "</style>\n",
       "<table border=\"1\" class=\"dataframe\">\n",
       "  <thead>\n",
       "    <tr style=\"text-align: right;\">\n",
       "      <th></th>\n",
       "      <th>Frecuencia</th>\n",
       "      <th>Porcentaje</th>\n",
       "    </tr>\n",
       "    <tr>\n",
       "      <th>Supervivencia</th>\n",
       "      <th></th>\n",
       "      <th></th>\n",
       "    </tr>\n",
       "  </thead>\n",
       "  <tbody>\n",
       "    <tr>\n",
       "      <th>0</th>\n",
       "      <td>549</td>\n",
       "      <td>61.62</td>\n",
       "    </tr>\n",
       "    <tr>\n",
       "      <th>1</th>\n",
       "      <td>342</td>\n",
       "      <td>38.38</td>\n",
       "    </tr>\n",
       "  </tbody>\n",
       "</table>\n",
       "</div>"
      ],
      "text/plain": [
       "               Frecuencia  Porcentaje\n",
       "Supervivencia                        \n",
       "0                     549       61.62\n",
       "1                     342       38.38"
      ]
     },
     "metadata": {},
     "output_type": "display_data"
    }
   ],
   "source": [
    "print(\"Variable Supervivencia\")\n",
    "display(superv_df)"
   ]
  },
  {
   "cell_type": "code",
   "execution_count": null,
   "id": "4e6f5ffe-a8ec-4da5-8964-75163e65b2ec",
   "metadata": {},
   "outputs": [],
   "source": []
  }
 ],
 "metadata": {
  "kernelspec": {
   "display_name": "Python 3 (ipykernel)",
   "language": "python",
   "name": "python3"
  },
  "language_info": {
   "codemirror_mode": {
    "name": "ipython",
    "version": 3
   },
   "file_extension": ".py",
   "mimetype": "text/x-python",
   "name": "python",
   "nbconvert_exporter": "python",
   "pygments_lexer": "ipython3",
   "version": "3.13.5"
  }
 },
 "nbformat": 4,
 "nbformat_minor": 5
}
